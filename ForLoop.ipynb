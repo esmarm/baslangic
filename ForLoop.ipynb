{
 "cells": [
  {
   "cell_type": "code",
   "execution_count": 12,
   "id": "6e5cca2a",
   "metadata": {},
   "outputs": [],
   "source": [
    "my_list=[1,2,3,4,5]     #for tek tek baktırıyor\n"
   ]
  },
  {
   "cell_type": "code",
   "execution_count": 13,
   "id": "75ba9531",
   "metadata": {},
   "outputs": [
    {
     "name": "stdout",
     "output_type": "stream",
     "text": [
      "esma\n",
      "esma\n",
      "esma\n",
      "esma\n",
      "esma\n"
     ]
    }
   ],
   "source": [
    "for number in my_list:\n",
    "    print(\"esma\")"
   ]
  },
  {
   "cell_type": "code",
   "execution_count": 14,
   "id": "ac63f61a",
   "metadata": {},
   "outputs": [
    {
     "name": "stdout",
     "output_type": "stream",
     "text": [
      "1\n",
      "2\n",
      "3\n",
      "4\n",
      "5\n"
     ]
    }
   ],
   "source": [
    "for number in my_list:\n",
    "    print(number)"
   ]
  },
  {
   "cell_type": "code",
   "execution_count": 17,
   "id": "71b6ae5f",
   "metadata": {},
   "outputs": [
    {
     "name": "stdout",
     "output_type": "stream",
     "text": [
      "5\n",
      "10\n",
      "15\n",
      "20\n",
      "25\n"
     ]
    }
   ],
   "source": [
    "for number in my_list:\n",
    "    new_number= number *5\n",
    "    print(new_number)"
   ]
  },
  {
   "cell_type": "code",
   "execution_count": 25,
   "id": "2aa8b4a5",
   "metadata": {},
   "outputs": [
    {
     "name": "stdout",
     "output_type": "stream",
     "text": [
      "2\n",
      "4\n"
     ]
    }
   ],
   "source": [
    "for number in my_list:\n",
    "    if number % 2 == 0:\n",
    "        print(number)"
   ]
  },
  {
   "cell_type": "code",
   "execution_count": 27,
   "id": "15279c6f",
   "metadata": {},
   "outputs": [],
   "source": [
    "my_string= \"ESMA\""
   ]
  },
  {
   "cell_type": "code",
   "execution_count": 29,
   "id": "6f8f336c",
   "metadata": {},
   "outputs": [
    {
     "name": "stdout",
     "output_type": "stream",
     "text": [
      "E\n",
      "S\n",
      "M\n",
      "A\n"
     ]
    }
   ],
   "source": [
    "for let in my_string:      #letter\n",
    "    print(let)"
   ]
  },
  {
   "cell_type": "code",
   "execution_count": 30,
   "id": "6a686980",
   "metadata": {},
   "outputs": [],
   "source": [
    "my_tuple= (5,6,7,8,9,10)"
   ]
  },
  {
   "cell_type": "code",
   "execution_count": 32,
   "id": "7fb9d206",
   "metadata": {},
   "outputs": [
    {
     "name": "stdout",
     "output_type": "stream",
     "text": [
      "25\n",
      "30\n",
      "35\n",
      "40\n",
      "45\n",
      "50\n"
     ]
    }
   ],
   "source": [
    "for num in my_tuple:\n",
    "    new_tuple= num * 5\n",
    "    print(new_tuple)"
   ]
  },
  {
   "cell_type": "code",
   "execution_count": 37,
   "id": "9ca144e9",
   "metadata": {},
   "outputs": [],
   "source": [
    "my_new_list = [(\"a\",\"b\"),(\"c\",\"d\"),(\"e\",\"f\")]"
   ]
  },
  {
   "cell_type": "code",
   "execution_count": 38,
   "id": "e855a478",
   "metadata": {},
   "outputs": [
    {
     "name": "stdout",
     "output_type": "stream",
     "text": [
      "('a', 'b')\n",
      "('c', 'd')\n",
      "('e', 'f')\n"
     ]
    }
   ],
   "source": [
    "for item in my_new_list:\n",
    "    print(item)"
   ]
  },
  {
   "cell_type": "code",
   "execution_count": 39,
   "id": "679259f1",
   "metadata": {},
   "outputs": [
    {
     "name": "stdout",
     "output_type": "stream",
     "text": [
      "b\n",
      "d\n",
      "f\n"
     ]
    }
   ],
   "source": [
    "for (x,y) in my_new_list:      #parantezsiz de çalışır\n",
    "    print(y)"
   ]
  },
  {
   "cell_type": "code",
   "execution_count": 41,
   "id": "616d0f03",
   "metadata": {},
   "outputs": [],
   "source": [
    "my_dict= {\"key1\":10, \"key2\":20, \"key3\":30}"
   ]
  },
  {
   "cell_type": "code",
   "execution_count": 47,
   "id": "d621d8ce",
   "metadata": {},
   "outputs": [
    {
     "name": "stdout",
     "output_type": "stream",
     "text": [
      "10\n",
      "20\n",
      "30\n"
     ]
    }
   ],
   "source": [
    "for (key,value) in my_dict.items():\n",
    "    print(value)"
   ]
  },
  {
   "cell_type": "code",
   "execution_count": null,
   "id": "920955d9",
   "metadata": {},
   "outputs": [],
   "source": []
  }
 ],
 "metadata": {
  "kernelspec": {
   "display_name": "Python 3 (ipykernel)",
   "language": "python",
   "name": "python3"
  },
  "language_info": {
   "codemirror_mode": {
    "name": "ipython",
    "version": 3
   },
   "file_extension": ".py",
   "mimetype": "text/x-python",
   "name": "python",
   "nbconvert_exporter": "python",
   "pygments_lexer": "ipython3",
   "version": "3.11.5"
  }
 },
 "nbformat": 4,
 "nbformat_minor": 5
}
