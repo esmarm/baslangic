{
 "cells": [
  {
   "cell_type": "code",
   "execution_count": 9,
   "id": "24ef9a94",
   "metadata": {},
   "outputs": [],
   "source": [
    "new_list = []"
   ]
  },
  {
   "cell_type": "code",
   "execution_count": 10,
   "id": "f10abece",
   "metadata": {},
   "outputs": [],
   "source": [
    "new_list.append(1)"
   ]
  },
  {
   "cell_type": "code",
   "execution_count": 11,
   "id": "681b20f6",
   "metadata": {},
   "outputs": [
    {
     "data": {
      "text/plain": [
       "[1]"
      ]
     },
     "execution_count": 11,
     "metadata": {},
     "output_type": "execute_result"
    }
   ],
   "source": [
    "new_list"
   ]
  },
  {
   "cell_type": "code",
   "execution_count": 44,
   "id": "0eb72408",
   "metadata": {},
   "outputs": [],
   "source": [
    "my_list = []"
   ]
  },
  {
   "cell_type": "code",
   "execution_count": 45,
   "id": "d4aa5c4e",
   "metadata": {},
   "outputs": [],
   "source": [
    "my_string = (\"Tarçın\")"
   ]
  },
  {
   "cell_type": "code",
   "execution_count": 46,
   "id": "5d6f01fe",
   "metadata": {},
   "outputs": [],
   "source": [
    "for element in my_string:\n",
    "    my_list.append(element)"
   ]
  },
  {
   "cell_type": "code",
   "execution_count": 47,
   "id": "a4426e2d",
   "metadata": {},
   "outputs": [
    {
     "data": {
      "text/plain": [
       "['T', 'a', 'r', 'ç', 'ı', 'n']"
      ]
     },
     "execution_count": 47,
     "metadata": {},
     "output_type": "execute_result"
    }
   ],
   "source": [
    "my_list"
   ]
  },
  {
   "cell_type": "code",
   "execution_count": 54,
   "id": "b62e09d1",
   "metadata": {},
   "outputs": [],
   "source": [
    "my_list = [element for element in my_string]           # kısa yoldan   "
   ]
  },
  {
   "cell_type": "code",
   "execution_count": 55,
   "id": "43a829f5",
   "metadata": {},
   "outputs": [
    {
     "data": {
      "text/plain": [
       "['T', 'a', 'r', 'ç', 'ı', 'n']"
      ]
     },
     "execution_count": 55,
     "metadata": {},
     "output_type": "execute_result"
    }
   ],
   "source": [
    "my_list"
   ]
  },
  {
   "cell_type": "code",
   "execution_count": 58,
   "id": "792e3d0f",
   "metadata": {},
   "outputs": [],
   "source": [
    "my_list2 = [number for number in list(range(10))]"
   ]
  },
  {
   "cell_type": "code",
   "execution_count": 59,
   "id": "c3479f34",
   "metadata": {},
   "outputs": [
    {
     "name": "stdout",
     "output_type": "stream",
     "text": [
      "[0, 1, 2, 3, 4, 5, 6, 7, 8, 9]\n"
     ]
    }
   ],
   "source": [
    "print(my_list2)"
   ]
  },
  {
   "cell_type": "code",
   "execution_count": 60,
   "id": "b70d6d8f",
   "metadata": {},
   "outputs": [],
   "source": [
    " my_list2 = [number*5 for number in list(range(10))]"
   ]
  },
  {
   "cell_type": "code",
   "execution_count": 61,
   "id": "bffb7637",
   "metadata": {},
   "outputs": [
    {
     "data": {
      "text/plain": [
       "[0, 5, 10, 15, 20, 25, 30, 35, 40, 45]"
      ]
     },
     "execution_count": 61,
     "metadata": {},
     "output_type": "execute_result"
    }
   ],
   "source": [
    "my_list2"
   ]
  },
  {
   "cell_type": "code",
   "execution_count": 67,
   "id": "11d1ae2a",
   "metadata": {},
   "outputs": [],
   "source": [
    "my_list2 = [number**5 for number in list(range(10))]"
   ]
  },
  {
   "cell_type": "code",
   "execution_count": 68,
   "id": "49383153",
   "metadata": {},
   "outputs": [
    {
     "data": {
      "text/plain": [
       "[0, 1, 32, 243, 1024, 3125, 7776, 16807, 32768, 59049]"
      ]
     },
     "execution_count": 68,
     "metadata": {},
     "output_type": "execute_result"
    }
   ],
   "source": [
    "my_list2"
   ]
  },
  {
   "cell_type": "code",
   "execution_count": null,
   "id": "b42b8a2d",
   "metadata": {},
   "outputs": [],
   "source": []
  }
 ],
 "metadata": {
  "kernelspec": {
   "display_name": "Python 3 (ipykernel)",
   "language": "python",
   "name": "python3"
  },
  "language_info": {
   "codemirror_mode": {
    "name": "ipython",
    "version": 3
   },
   "file_extension": ".py",
   "mimetype": "text/x-python",
   "name": "python",
   "nbconvert_exporter": "python",
   "pygments_lexer": "ipython3",
   "version": "3.11.5"
  }
 },
 "nbformat": 4,
 "nbformat_minor": 5
}
