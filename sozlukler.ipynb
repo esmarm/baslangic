{
 "cells": [
  {
   "cell_type": "code",
   "execution_count": 7,
   "id": "8cf9c460",
   "metadata": {},
   "outputs": [
    {
     "data": {
      "text/plain": [
       "'value'"
      ]
     },
     "execution_count": 7,
     "metadata": {},
     "output_type": "execute_result"
    }
   ],
   "source": [
    "my_dictionary = {\"key\":\"value\"}\n",
    "my_dictionary [\"key\"]"
   ]
  },
  {
   "cell_type": "code",
   "execution_count": null,
   "id": "0978cd27",
   "metadata": {},
   "outputs": [],
   "source": [
    "my_list=[\"run\",\"swim\"]\n",
    "my_list2=[100,200]       #bu noktada sözlüklerle bu bu kadar eder diyebiliriz"
   ]
  },
  {
   "cell_type": "code",
   "execution_count": 21,
   "id": "e5482968",
   "metadata": {},
   "outputs": [],
   "source": [
    "my_fitness_dictionary= {\"run\":100,\"swim\":200}"
   ]
  },
  {
   "cell_type": "code",
   "execution_count": 22,
   "id": "ce2d2a20",
   "metadata": {},
   "outputs": [
    {
     "data": {
      "text/plain": [
       "100"
      ]
     },
     "execution_count": 22,
     "metadata": {},
     "output_type": "execute_result"
    }
   ],
   "source": [
    "my_fitness_dictionary[\"run\"]"
   ]
  },
  {
   "cell_type": "code",
   "execution_count": 23,
   "id": "3972586d",
   "metadata": {},
   "outputs": [
    {
     "data": {
      "text/plain": [
       "200"
      ]
     },
     "execution_count": 23,
     "metadata": {},
     "output_type": "execute_result"
    }
   ],
   "source": [
    "my_fitness_dictionary[\"swim\"]"
   ]
  },
  {
   "cell_type": "code",
   "execution_count": 24,
   "id": "9d89607d",
   "metadata": {},
   "outputs": [],
   "source": [
    "my_dictionary_2={\"key1\":1,\"key2\":2,\"key3\":\"apple\"}"
   ]
  },
  {
   "cell_type": "code",
   "execution_count": 25,
   "id": "92d8b452",
   "metadata": {},
   "outputs": [
    {
     "data": {
      "text/plain": [
       "'apple'"
      ]
     },
     "execution_count": 25,
     "metadata": {},
     "output_type": "execute_result"
    }
   ],
   "source": [
    "my_dictionary_2[\"key3\"]\n",
    "\n"
   ]
  },
  {
   "cell_type": "code",
   "execution_count": 30,
   "id": "ad8b4757",
   "metadata": {},
   "outputs": [],
   "source": [
    "my_dictionary_3 = {\"key1\":10,20:30}"
   ]
  },
  {
   "cell_type": "code",
   "execution_count": 31,
   "id": "f17003f2",
   "metadata": {},
   "outputs": [
    {
     "data": {
      "text/plain": [
       "10"
      ]
     },
     "execution_count": 31,
     "metadata": {},
     "output_type": "execute_result"
    }
   ],
   "source": [
    "my_dictionary_3 [\"key1\"]"
   ]
  },
  {
   "cell_type": "code",
   "execution_count": 32,
   "id": "953a6b84",
   "metadata": {},
   "outputs": [
    {
     "data": {
      "text/plain": [
       "30"
      ]
     },
     "execution_count": 32,
     "metadata": {},
     "output_type": "execute_result"
    }
   ],
   "source": [
    "my_dictionary_3[20]             "
   ]
  },
  {
   "cell_type": "code",
   "execution_count": 33,
   "id": "6a1f45c8",
   "metadata": {},
   "outputs": [
    {
     "data": {
      "text/plain": [
       "{'key1': 100, 'key2': [10, 20, 30], 'key3': {'a': 5}}"
      ]
     },
     "execution_count": 33,
     "metadata": {},
     "output_type": "execute_result"
    }
   ],
   "source": [
    "my_dictionary_4={\"key1\":100, \"key2\":[10,20,30], \"key3\":{\"a\":5}}\n",
    "my_dictionary_4"
   ]
  },
  {
   "cell_type": "code",
   "execution_count": 34,
   "id": "a4ec544f",
   "metadata": {},
   "outputs": [
    {
     "data": {
      "text/plain": [
       "dict_values([100, [10, 20, 30], {'a': 5}])"
      ]
     },
     "execution_count": 34,
     "metadata": {},
     "output_type": "execute_result"
    }
   ],
   "source": [
    "my_dictionary_4.values()"
   ]
  },
  {
   "cell_type": "code",
   "execution_count": 35,
   "id": "918fd196",
   "metadata": {},
   "outputs": [
    {
     "data": {
      "text/plain": [
       "dict_keys(['key1', 'key2', 'key3'])"
      ]
     },
     "execution_count": 35,
     "metadata": {},
     "output_type": "execute_result"
    }
   ],
   "source": [
    "my_dictionary_4.keys()"
   ]
  },
  {
   "cell_type": "code",
   "execution_count": 38,
   "id": "a1782141",
   "metadata": {},
   "outputs": [
    {
     "data": {
      "text/plain": [
       "5"
      ]
     },
     "execution_count": 38,
     "metadata": {},
     "output_type": "execute_result"
    }
   ],
   "source": [
    "my_dictionary_4[\"key3\"] [\"a\"]"
   ]
  },
  {
   "cell_type": "code",
   "execution_count": 43,
   "id": "f1c326b3",
   "metadata": {},
   "outputs": [],
   "source": [
    "my_dictionary_5= {\"k1\":1, \"k2\":2, \"k3\":\"selam\"}"
   ]
  },
  {
   "cell_type": "code",
   "execution_count": 44,
   "id": "4717a58a",
   "metadata": {},
   "outputs": [],
   "source": [
    "my_dictionary_5[\"k1\"]=2\n",
    "my_dictionary_5[\"k3\"]=\"aleykumselam\""
   ]
  },
  {
   "cell_type": "code",
   "execution_count": 45,
   "id": "62cf8dcd",
   "metadata": {},
   "outputs": [
    {
     "data": {
      "text/plain": [
       "{'k1': 2, 'k2': 2, 'k3': 'aleykumselam'}"
      ]
     },
     "execution_count": 45,
     "metadata": {},
     "output_type": "execute_result"
    }
   ],
   "source": [
    "my_dictionary_5"
   ]
  },
  {
   "cell_type": "code",
   "execution_count": null,
   "id": "6af39d57",
   "metadata": {},
   "outputs": [],
   "source": []
  }
 ],
 "metadata": {
  "kernelspec": {
   "display_name": "Python 3 (ipykernel)",
   "language": "python",
   "name": "python3"
  },
  "language_info": {
   "codemirror_mode": {
    "name": "ipython",
    "version": 3
   },
   "file_extension": ".py",
   "mimetype": "text/x-python",
   "name": "python",
   "nbconvert_exporter": "python",
   "pygments_lexer": "ipython3",
   "version": "3.11.5"
  }
 },
 "nbformat": 4,
 "nbformat_minor": 5
}
