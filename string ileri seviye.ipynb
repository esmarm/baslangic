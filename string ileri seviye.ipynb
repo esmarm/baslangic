{
 "cells": [
  {
   "cell_type": "code",
   "execution_count": 11,
   "id": "e4d0c2ef",
   "metadata": {},
   "outputs": [
    {
     "data": {
      "text/plain": [
       "'hello world'"
      ]
     },
     "execution_count": 11,
     "metadata": {},
     "output_type": "execute_result"
    }
   ],
   "source": [
    "mystring = \"hello world\"\n",
    "mystring"
   ]
  },
  {
   "cell_type": "code",
   "execution_count": 12,
   "id": "50e4da4d",
   "metadata": {},
   "outputs": [
    {
     "data": {
      "text/plain": [
       "'h'"
      ]
     },
     "execution_count": 12,
     "metadata": {},
     "output_type": "execute_result"
    }
   ],
   "source": [
    "mystring[0]"
   ]
  },
  {
   "cell_type": "code",
   "execution_count": 14,
   "id": "759a82a8",
   "metadata": {},
   "outputs": [
    {
     "data": {
      "text/plain": [
       "'o'"
      ]
     },
     "execution_count": 14,
     "metadata": {},
     "output_type": "execute_result"
    }
   ],
   "source": [
    "mystring[4]"
   ]
  },
  {
   "cell_type": "code",
   "execution_count": 15,
   "id": "a3f99283",
   "metadata": {},
   "outputs": [
    {
     "data": {
      "text/plain": [
       "'d'"
      ]
     },
     "execution_count": 15,
     "metadata": {},
     "output_type": "execute_result"
    }
   ],
   "source": [
    "mystring[-1]"
   ]
  },
  {
   "cell_type": "code",
   "execution_count": 16,
   "id": "4d9ddfe5",
   "metadata": {},
   "outputs": [
    {
     "data": {
      "text/plain": [
       "'1'"
      ]
     },
     "execution_count": 16,
     "metadata": {},
     "output_type": "execute_result"
    }
   ],
   "source": [
    "mystring2 = \"1234567890\"\n",
    "mystring2\n",
    "mystring2[0]"
   ]
  },
  {
   "cell_type": "code",
   "execution_count": 17,
   "id": "c421029b",
   "metadata": {},
   "outputs": [
    {
     "data": {
      "text/plain": [
       "'34567890'"
      ]
     },
     "execution_count": 17,
     "metadata": {},
     "output_type": "execute_result"
    }
   ],
   "source": [
    "mystring2[2:]"
   ]
  },
  {
   "cell_type": "code",
   "execution_count": 18,
   "id": "1bf60255",
   "metadata": {},
   "outputs": [
    {
     "data": {
      "text/plain": [
       "'7890'"
      ]
     },
     "execution_count": 18,
     "metadata": {},
     "output_type": "execute_result"
    }
   ],
   "source": [
    "mystring2[-4:]"
   ]
  },
  {
   "cell_type": "code",
   "execution_count": 19,
   "id": "cd38cc34",
   "metadata": {},
   "outputs": [
    {
     "data": {
      "text/plain": [
       "'1234'"
      ]
     },
     "execution_count": 19,
     "metadata": {},
     "output_type": "execute_result"
    }
   ],
   "source": [
    "mystring2[:4]"
   ]
  },
  {
   "cell_type": "code",
   "execution_count": 20,
   "id": "63ba9e55",
   "metadata": {},
   "outputs": [
    {
     "data": {
      "text/plain": [
       "'1470'"
      ]
     },
     "execution_count": 20,
     "metadata": {},
     "output_type": "execute_result"
    }
   ],
   "source": [
    "mystring2[::3]"
   ]
  },
  {
   "cell_type": "code",
   "execution_count": 21,
   "id": "7433bbdc",
   "metadata": {},
   "outputs": [
    {
     "data": {
      "text/plain": [
       "'3'"
      ]
     },
     "execution_count": 21,
     "metadata": {},
     "output_type": "execute_result"
    }
   ],
   "source": [
    "mystring2[2:4:2]"
   ]
  },
  {
   "cell_type": "code",
   "execution_count": 22,
   "id": "73d20cf1",
   "metadata": {},
   "outputs": [
    {
     "data": {
      "text/plain": [
       "'34'"
      ]
     },
     "execution_count": 22,
     "metadata": {},
     "output_type": "execute_result"
    }
   ],
   "source": [
    "mystring2[2:4]"
   ]
  },
  {
   "cell_type": "code",
   "execution_count": 23,
   "id": "7070c5b9",
   "metadata": {},
   "outputs": [
    {
     "data": {
      "text/plain": [
       "'34'"
      ]
     },
     "execution_count": 23,
     "metadata": {},
     "output_type": "execute_result"
    }
   ],
   "source": [
    "mystring2[2:4:]"
   ]
  },
  {
   "cell_type": "code",
   "execution_count": 26,
   "id": "cdcf41a6",
   "metadata": {},
   "outputs": [
    {
     "data": {
      "text/plain": [
       "'3'"
      ]
     },
     "execution_count": 26,
     "metadata": {},
     "output_type": "execute_result"
    }
   ],
   "source": [
    "mystring2[2:4:2]"
   ]
  },
  {
   "cell_type": "code",
   "execution_count": 27,
   "id": "2e1df640",
   "metadata": {},
   "outputs": [
    {
     "data": {
      "text/plain": [
       "'0987654321'"
      ]
     },
     "execution_count": 27,
     "metadata": {},
     "output_type": "execute_result"
    }
   ],
   "source": [
    "mystring2[::-1]"
   ]
  },
  {
   "cell_type": "code",
   "execution_count": null,
   "id": "571f3201",
   "metadata": {},
   "outputs": [],
   "source": []
  },
  {
   "cell_type": "code",
   "execution_count": 28,
   "id": "ce95ad77",
   "metadata": {},
   "outputs": [],
   "source": [
    "my_name=\"esma\""
   ]
  },
  {
   "cell_type": "code",
   "execution_count": 32,
   "id": "95c89a11",
   "metadata": {},
   "outputs": [
    {
     "data": {
      "text/plain": [
       "'Esma'"
      ]
     },
     "execution_count": 32,
     "metadata": {},
     "output_type": "execute_result"
    }
   ],
   "source": [
    "my_name.capitalize()"
   ]
  },
  {
   "cell_type": "code",
   "execution_count": 41,
   "id": "bb5ce84d",
   "metadata": {},
   "outputs": [
    {
     "ename": "TypeError",
     "evalue": "'builtin_function_or_method' object is not subscriptable",
     "output_type": "error",
     "traceback": [
      "\u001b[1;31m---------------------------------------------------------------------------\u001b[0m",
      "\u001b[1;31mTypeError\u001b[0m                                 Traceback (most recent call last)",
      "Cell \u001b[1;32mIn[41], line 4\u001b[0m\n\u001b[0;32m      2\u001b[0m my_name2\n\u001b[0;32m      3\u001b[0m my_name_split \u001b[38;5;241m=\u001b[39m my_name2\u001b[38;5;241m.\u001b[39msplit()\n\u001b[1;32m----> 4\u001b[0m my_name2\u001b[38;5;241m.\u001b[39msplit[\u001b[38;5;241m0\u001b[39m]\n",
      "\u001b[1;31mTypeError\u001b[0m: 'builtin_function_or_method' object is not subscriptable"
     ]
    }
   ],
   "source": [
    "\n",
    "my_name2=\"esma ravza muslu\"\n",
    "my_name2\n",
    "my_name_split = my_name2.split()\n",
    "my_name2.split[0]\n"
   ]
  },
  {
   "cell_type": "code",
   "execution_count": 42,
   "id": "bf6b9167",
   "metadata": {},
   "outputs": [],
   "source": [
    "myname= \"esma\"\n",
    "myname2= \"ravza\"\n",
    "mysurname=\"muslu\"\n",
    "myfullname= myname+ \" \"+myname2+\" \"+mysurname"
   ]
  },
  {
   "cell_type": "code",
   "execution_count": 44,
   "id": "6388048f",
   "metadata": {},
   "outputs": [
    {
     "data": {
      "text/plain": [
       "'esma ravza muslu'"
      ]
     },
     "execution_count": 44,
     "metadata": {},
     "output_type": "execute_result"
    }
   ],
   "source": [
    "myfullname"
   ]
  },
  {
   "cell_type": "code",
   "execution_count": 45,
   "id": "d0ea12c2",
   "metadata": {},
   "outputs": [
    {
     "data": {
      "text/plain": [
       "'Esma ravza muslu'"
      ]
     },
     "execution_count": 45,
     "metadata": {},
     "output_type": "execute_result"
    }
   ],
   "source": [
    "myfullname.capitalize()"
   ]
  },
  {
   "cell_type": "code",
   "execution_count": 46,
   "id": "c9cca62f",
   "metadata": {},
   "outputs": [
    {
     "data": {
      "text/plain": [
       "['esma', 'ravza', 'muslu']"
      ]
     },
     "execution_count": 46,
     "metadata": {},
     "output_type": "execute_result"
    }
   ],
   "source": [
    "myfullname.split()"
   ]
  },
  {
   "cell_type": "code",
   "execution_count": null,
   "id": "045ed097",
   "metadata": {},
   "outputs": [],
   "source": []
  }
 ],
 "metadata": {
  "kernelspec": {
   "display_name": "Python 3 (ipykernel)",
   "language": "python",
   "name": "python3"
  },
  "language_info": {
   "codemirror_mode": {
    "name": "ipython",
    "version": 3
   },
   "file_extension": ".py",
   "mimetype": "text/x-python",
   "name": "python",
   "nbconvert_exporter": "python",
   "pygments_lexer": "ipython3",
   "version": "3.11.5"
  }
 },
 "nbformat": 4,
 "nbformat_minor": 5
}
