{
 "cells": [
  {
   "cell_type": "code",
   "execution_count": null,
   "id": "28e10c75",
   "metadata": {},
   "outputs": [],
   "source": [
    "a = 0                              # a'nın 5'ten küçük olduğu süre boyunca işlem devam eder.\n",
    "while a<5: \n",
    "    print(\"oldest but biitch\")\n",
    "    a= a+1\n",
    "    \n"
   ]
  },
  {
   "cell_type": "code",
   "execution_count": 37,
   "id": "ab6433a8",
   "metadata": {},
   "outputs": [
    {
     "name": "stdout",
     "output_type": "stream",
     "text": [
      "oldest but biitch\n",
      "oldest but biitch\n",
      "oldest but biitch\n",
      "oldest but biitch\n",
      "oldest but biitch\n",
      "oldest but biitch\n"
     ]
    }
   ],
   "source": [
    "a = 0\n",
    "while a<=5: \n",
    "    print(\"oldest but biitch\")\n",
    "    a= a+1\n",
    "                            "
   ]
  },
  {
   "cell_type": "code",
   "execution_count": 38,
   "id": "99eb8f91",
   "metadata": {},
   "outputs": [],
   "source": [
    "my_list = [10,20,30,40,50,60]\n"
   ]
  },
  {
   "cell_type": "code",
   "execution_count": 39,
   "id": "7a588a9d",
   "metadata": {},
   "outputs": [
    {
     "data": {
      "text/plain": [
       "60"
      ]
     },
     "execution_count": 39,
     "metadata": {},
     "output_type": "execute_result"
    }
   ],
   "source": [
    "my_list.pop()        #son rakamı listeden atar.\n"
   ]
  },
  {
   "cell_type": "code",
   "execution_count": 40,
   "id": "a883998d",
   "metadata": {},
   "outputs": [
    {
     "data": {
      "text/plain": [
       "[10, 20, 30, 40, 50]"
      ]
     },
     "execution_count": 40,
     "metadata": {},
     "output_type": "execute_result"
    }
   ],
   "source": [
    "my_list"
   ]
  },
  {
   "cell_type": "code",
   "execution_count": 41,
   "id": "6ea1b71e",
   "metadata": {},
   "outputs": [],
   "source": [
    "my_list.append(5)"
   ]
  },
  {
   "cell_type": "code",
   "execution_count": 42,
   "id": "52286c7e",
   "metadata": {},
   "outputs": [],
   "source": [
    "number = 0"
   ]
  },
  {
   "cell_type": "code",
   "execution_count": 43,
   "id": "ccbebf20",
   "metadata": {},
   "outputs": [
    {
     "name": "stdout",
     "output_type": "stream",
     "text": [
      "yok artık esma bu kadarı fazla\n",
      "yok artık esma bu kadarı fazla\n",
      "yok artık esma bu kadarı fazla\n",
      "yok artık esma bu kadarı fazla\n"
     ]
    }
   ],
   "source": [
    "while 30 in my_list:\n",
    "    print(\"yok artık esma bu kadarı fazla\")\n",
    "    my_list.pop()\n",
    "    "
   ]
  },
  {
   "cell_type": "code",
   "execution_count": 44,
   "id": "8b2b76f1",
   "metadata": {},
   "outputs": [],
   "source": [
    "number = 0"
   ]
  },
  {
   "cell_type": "code",
   "execution_count": 80,
   "id": "88563164",
   "metadata": {
    "scrolled": true
   },
   "outputs": [],
   "source": [
    "while number<10:\n",
    "    print(number)\n",
    "    number= number+1"
   ]
  },
  {
   "cell_type": "code",
   "execution_count": 81,
   "id": "99b01b72",
   "metadata": {},
   "outputs": [],
   "source": [
    "e = 0"
   ]
  },
  {
   "cell_type": "code",
   "execution_count": 78,
   "id": "81d4ed88",
   "metadata": {},
   "outputs": [
    {
     "name": "stdout",
     "output_type": "stream",
     "text": [
      "value e: 0\n",
      "value e: 1\n",
      "value e: 2\n",
      "value e: 3\n",
      "value e: 4\n",
      "value e: 5\n",
      "value e: 6\n",
      "value e: 7\n",
      "value e: 8\n",
      "value e: 9\n",
      "value e: 10\n",
      "value e: 11\n",
      "value e: 12\n",
      "value e: 13\n",
      "value e: 14\n",
      "value e: 15\n",
      "value e: 16\n",
      "value e: 17\n",
      "value e: 18\n",
      "value e: 19\n"
     ]
    }
   ],
   "source": [
    "while e<20:\n",
    "    print(f\"value e: {e}\")  #formating    \n",
    "    #print( \"value p: \" + str(e))     #bunun yerine   \n",
    "    e += 1"
   ]
  },
  {
   "cell_type": "code",
   "execution_count": null,
   "id": "db326e51",
   "metadata": {},
   "outputs": [],
   "source": []
  },
  {
   "cell_type": "code",
   "execution_count": null,
   "id": "7031a41e",
   "metadata": {},
   "outputs": [],
   "source": []
  },
  {
   "cell_type": "code",
   "execution_count": null,
   "id": "75d8cd71",
   "metadata": {},
   "outputs": [],
   "source": []
  }
 ],
 "metadata": {
  "kernelspec": {
   "display_name": "Python 3 (ipykernel)",
   "language": "python",
   "name": "python3"
  },
  "language_info": {
   "codemirror_mode": {
    "name": "ipython",
    "version": 3
   },
   "file_extension": ".py",
   "mimetype": "text/x-python",
   "name": "python",
   "nbconvert_exporter": "python",
   "pygments_lexer": "ipython3",
   "version": "3.11.5"
  }
 },
 "nbformat": 4,
 "nbformat_minor": 5
}
