{
 "cells": [
  {
   "cell_type": "code",
   "execution_count": 1,
   "id": "eaeebeaf",
   "metadata": {},
   "outputs": [],
   "source": [
    "my_list = (1,2,3,4,5,6,7,8,9,10)"
   ]
  },
  {
   "cell_type": "code",
   "execution_count": 3,
   "id": "0021e4bc",
   "metadata": {},
   "outputs": [
    {
     "name": "stdout",
     "output_type": "stream",
     "text": [
      "1\n",
      "2\n",
      "3\n",
      "4\n",
      "5\n",
      "6\n",
      "7\n",
      "8\n",
      "9\n",
      "10\n"
     ]
    }
   ],
   "source": [
    "for number in my_list:\n",
    "    print(number)"
   ]
  },
  {
   "cell_type": "markdown",
   "id": "e2c6d593",
   "metadata": {},
   "source": [
    "## RANGE"
   ]
  },
  {
   "cell_type": "code",
   "execution_count": 4,
   "id": "b2678ad3",
   "metadata": {},
   "outputs": [
    {
     "data": {
      "text/plain": [
       "[0, 1, 2, 3, 4, 5, 6, 7, 8, 9, 10, 11, 12, 13, 14, 15, 16, 17, 18, 19]"
      ]
     },
     "execution_count": 4,
     "metadata": {},
     "output_type": "execute_result"
    }
   ],
   "source": [
    "list(range(20))                            #range belirli bir sayıya kadar bir sayı dizisi oluşturmamızı sağlar.\n",
    "                                           #böylece her listeyi tek tek yazmamıza gerek kalmadan işlerimizi halledebiliriz."
   ]
  },
  {
   "cell_type": "code",
   "execution_count": 5,
   "id": "e654fb7b",
   "metadata": {},
   "outputs": [
    {
     "data": {
      "text/plain": [
       "[0, 1, 2, 3, 4, 5, 6, 7, 8, 9, 10, 11, 12, 13, 14, 15, 16, 17, 18, 19, 20]"
      ]
     },
     "execution_count": 5,
     "metadata": {},
     "output_type": "execute_result"
    }
   ],
   "source": [
    "list(range(21))"
   ]
  },
  {
   "cell_type": "code",
   "execution_count": 6,
   "id": "d2577399",
   "metadata": {},
   "outputs": [
    {
     "name": "stdout",
     "output_type": "stream",
     "text": [
      "0\n",
      "10\n",
      "20\n",
      "30\n",
      "40\n",
      "50\n",
      "60\n",
      "70\n",
      "80\n",
      "90\n",
      "100\n",
      "110\n",
      "120\n",
      "130\n",
      "140\n",
      "150\n",
      "160\n",
      "170\n",
      "180\n",
      "190\n",
      "200\n"
     ]
    }
   ],
   "source": [
    "for num in list(range(21)):\n",
    "    print (num * 10)"
   ]
  },
  {
   "cell_type": "code",
   "execution_count": 8,
   "id": "fdd22110",
   "metadata": {},
   "outputs": [
    {
     "name": "stdout",
     "output_type": "stream",
     "text": [
      "10\n",
      "11\n",
      "12\n",
      "13\n",
      "14\n",
      "15\n",
      "16\n",
      "17\n",
      "18\n",
      "19\n",
      "20\n",
      "21\n",
      "22\n",
      "23\n",
      "24\n",
      "25\n",
      "26\n",
      "27\n",
      "28\n",
      "29\n",
      "30\n"
     ]
    }
   ],
   "source": [
    "for num in list(range(10,31)):\n",
    "    print(num)"
   ]
  },
  {
   "cell_type": "code",
   "execution_count": 20,
   "id": "32f732f7",
   "metadata": {
    "scrolled": true
   },
   "outputs": [
    {
     "name": "stdout",
     "output_type": "stream",
     "text": [
      "0\n",
      "2\n",
      "4\n",
      "6\n",
      "8\n",
      "10\n",
      "12\n",
      "14\n",
      "16\n",
      "18\n",
      "20\n"
     ]
    }
   ],
   "source": [
    "for num in list(range(0,21,2)):                    #step size\n",
    "    print(num)"
   ]
  },
  {
   "cell_type": "markdown",
   "id": "3e016bb7",
   "metadata": {},
   "source": [
    "## ENUMERATE"
   ]
  },
  {
   "cell_type": "code",
   "execution_count": 16,
   "id": "bd75c345",
   "metadata": {},
   "outputs": [
    {
     "name": "stdout",
     "output_type": "stream",
     "text": [
      "0\n",
      "1\n",
      "2\n",
      "3\n",
      "4\n",
      "5\n",
      "6\n",
      "7\n",
      "8\n",
      "9\n",
      "10\n"
     ]
    }
   ],
   "source": [
    "for num in list(range(11)):\n",
    "    print(num)"
   ]
  },
  {
   "cell_type": "code",
   "execution_count": 19,
   "id": "3aa007fd",
   "metadata": {},
   "outputs": [
    {
     "name": "stdout",
     "output_type": "stream",
     "text": [
      "no:   5   sıra: 0\n",
      "no:   6   sıra: 1\n",
      "no:   7   sıra: 2\n",
      "no:   8   sıra: 3\n",
      "no:   9   sıra: 4\n",
      "no:   10   sıra: 5\n"
     ]
    }
   ],
   "source": [
    "index = 0                                                #burada uzun yoldan bir numaralandırma işlemi yapıyoruz.\n",
    "for num in list(range(5,11)):                            # enumerate = numaralandırmak\n",
    "    print(f\"no:   {num}   sıra: {index}\")\n",
    "    index += 1"
   ]
  },
  {
   "cell_type": "code",
   "execution_count": 22,
   "id": "43a1acc4",
   "metadata": {},
   "outputs": [
    {
     "name": "stdout",
     "output_type": "stream",
     "text": [
      "(0, 5)\n",
      "(1, 6)\n",
      "(2, 7)\n",
      "(3, 8)\n",
      "(4, 9)\n",
      "(5, 10)\n"
     ]
    }
   ],
   "source": [
    "for num in enumerate(list(range(5,11))):\n",
    "    print(num)"
   ]
  },
  {
   "cell_type": "code",
   "execution_count": 48,
   "id": "5db80295",
   "metadata": {
    "scrolled": true
   },
   "outputs": [
    {
     "name": "stdout",
     "output_type": "stream",
     "text": [
      "0\n",
      "0\n",
      "1\n",
      "1\n",
      "2\n",
      "2\n",
      "3\n",
      "3\n",
      "4\n",
      "4\n",
      "5\n",
      "5\n",
      "6\n",
      "6\n",
      "7\n",
      "7\n",
      "8\n",
      "8\n",
      "9\n",
      "9\n",
      "10\n",
      "10\n",
      "11\n",
      "11\n",
      "12\n",
      "12\n",
      "13\n",
      "13\n",
      "14\n",
      "14\n",
      "15\n",
      "15\n",
      "16\n",
      "16\n",
      "17\n",
      "17\n",
      "18\n",
      "18\n",
      "19\n",
      "19\n",
      "20\n",
      "20\n"
     ]
    }
   ],
   "source": [
    "for index,num in enumerate(list(range(21))):\n",
    "    print(index)\n",
    "    print(num)"
   ]
  },
  {
   "cell_type": "markdown",
   "id": "2daab607",
   "metadata": {},
   "source": [
    "## RANDOM"
   ]
  },
  {
   "cell_type": "code",
   "execution_count": 34,
   "id": "f220a52e",
   "metadata": {},
   "outputs": [],
   "source": [
    "from random import randint                # import = içe aktar, ithal et"
   ]
  },
  {
   "cell_type": "code",
   "execution_count": 35,
   "id": "d099d828",
   "metadata": {},
   "outputs": [
    {
     "data": {
      "text/plain": [
       "504"
      ]
     },
     "execution_count": 35,
     "metadata": {},
     "output_type": "execute_result"
    }
   ],
   "source": [
    "randint(0,1000)"
   ]
  },
  {
   "cell_type": "code",
   "execution_count": 45,
   "id": "864b1272",
   "metadata": {},
   "outputs": [],
   "source": [
    "my_list = list(range(0,11))"
   ]
  },
  {
   "cell_type": "code",
   "execution_count": null,
   "id": "b6dc55d9",
   "metadata": {},
   "outputs": [],
   "source": [
    "#from random import shuffle                # shuffle = karıştır"
   ]
  },
  {
   "cell_type": "code",
   "execution_count": 46,
   "id": "2750f465",
   "metadata": {},
   "outputs": [],
   "source": [
    "shuffle(my_list)"
   ]
  },
  {
   "cell_type": "code",
   "execution_count": 47,
   "id": "a2856392",
   "metadata": {},
   "outputs": [
    {
     "data": {
      "text/plain": [
       "[9, 2, 7, 0, 10, 5, 4, 3, 6, 8, 1]"
      ]
     },
     "execution_count": 47,
     "metadata": {},
     "output_type": "execute_result"
    }
   ],
   "source": [
    "my_list"
   ]
  },
  {
   "cell_type": "markdown",
   "id": "7d1c2bbe",
   "metadata": {},
   "source": [
    "## ZİP"
   ]
  },
  {
   "cell_type": "code",
   "execution_count": 49,
   "id": "b6cc8f22",
   "metadata": {},
   "outputs": [],
   "source": [
    "sport_list = (\"run\", \"swim\", \"basketball\")"
   ]
  },
  {
   "cell_type": "code",
   "execution_count": 50,
   "id": "4bea2cee",
   "metadata": {},
   "outputs": [],
   "source": [
    "calories_list = (100,200,300)"
   ]
  },
  {
   "cell_type": "code",
   "execution_count": 51,
   "id": "f795b516",
   "metadata": {},
   "outputs": [],
   "source": [
    "day_list = (\"mon\", \"tue\", \"wed\")"
   ]
  },
  {
   "cell_type": "code",
   "execution_count": 54,
   "id": "692f0bb0",
   "metadata": {},
   "outputs": [
    {
     "data": {
      "text/plain": [
       "<zip at 0x180437beac0>"
      ]
     },
     "execution_count": 54,
     "metadata": {},
     "output_type": "execute_result"
    }
   ],
   "source": [
    "zip(sport_list, calories_list, day_list)                # ziple birleştiriyoruz"
   ]
  },
  {
   "cell_type": "code",
   "execution_count": 55,
   "id": "ef398e94",
   "metadata": {},
   "outputs": [],
   "source": [
    "new_list = zip(sport_list, calories_list, day_list) "
   ]
  },
  {
   "cell_type": "code",
   "execution_count": 58,
   "id": "8a739461",
   "metadata": {},
   "outputs": [
    {
     "name": "stdout",
     "output_type": "stream",
     "text": [
      "<zip object at 0x00000180437B78C0>\n"
     ]
    }
   ],
   "source": [
    "print(new_list)                                         # liste olarak kabul etmedi bir obje olarak algılıyor.\n",
    "                                                        # bunun neden olduğunu fonksiyonlarda daha iyi anlayacağız."
   ]
  },
  {
   "cell_type": "code",
   "execution_count": 59,
   "id": "8b35f9d9",
   "metadata": {},
   "outputs": [
    {
     "data": {
      "text/plain": [
       "zip"
      ]
     },
     "execution_count": 59,
     "metadata": {},
     "output_type": "execute_result"
    }
   ],
   "source": [
    "type(new_list)"
   ]
  },
  {
   "cell_type": "code",
   "execution_count": 61,
   "id": "649c7b8e",
   "metadata": {},
   "outputs": [
    {
     "name": "stdout",
     "output_type": "stream",
     "text": [
      "[('run', 100, 'mon'), ('swim', 200, 'tue'), ('basketball', 300, 'wed')]\n"
     ]
    }
   ],
   "source": [
    "new_list = list(zip(sport_list, calories_list, day_list))\n",
    "print(new_list)"
   ]
  },
  {
   "cell_type": "code",
   "execution_count": 62,
   "id": "10167dc5",
   "metadata": {},
   "outputs": [
    {
     "data": {
      "text/plain": [
       "list"
      ]
     },
     "execution_count": 62,
     "metadata": {},
     "output_type": "execute_result"
    }
   ],
   "source": [
    "type(new_list)"
   ]
  },
  {
   "cell_type": "code",
   "execution_count": 63,
   "id": "0d711334",
   "metadata": {},
   "outputs": [
    {
     "name": "stdout",
     "output_type": "stream",
     "text": [
      "('run', 100, 'mon')\n",
      "('swim', 200, 'tue')\n",
      "('basketball', 300, 'wed')\n"
     ]
    }
   ],
   "source": [
    "for num in new_list:\n",
    "    print(num)"
   ]
  }
 ],
 "metadata": {
  "kernelspec": {
   "display_name": "Python 3 (ipykernel)",
   "language": "python",
   "name": "python3"
  },
  "language_info": {
   "codemirror_mode": {
    "name": "ipython",
    "version": 3
   },
   "file_extension": ".py",
   "mimetype": "text/x-python",
   "name": "python",
   "nbconvert_exporter": "python",
   "pygments_lexer": "ipython3",
   "version": "3.11.5"
  }
 },
 "nbformat": 4,
 "nbformat_minor": 5
}
