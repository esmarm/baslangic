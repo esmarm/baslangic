{
 "cells": [
  {
   "cell_type": "code",
   "execution_count": 9,
   "id": "8f6787fd",
   "metadata": {},
   "outputs": [
    {
     "name": "stdout",
     "output_type": "stream",
     "text": [
      "3 is greater than 2\n",
      "0 3 2 1\n"
     ]
    }
   ],
   "source": [
    "if 3>2:\n",
    "    print(\"3 is greater than 2\")\n",
    "    print(\"0 3 2 1\")"
   ]
  },
  {
   "cell_type": "code",
   "execution_count": 18,
   "id": "29d8e3bb",
   "metadata": {},
   "outputs": [],
   "source": [
    "x=4"
   ]
  },
  {
   "cell_type": "code",
   "execution_count": 19,
   "id": "8d9bc3fa",
   "metadata": {},
   "outputs": [],
   "source": [
    "y=4"
   ]
  },
  {
   "cell_type": "code",
   "execution_count": 23,
   "id": "4a80bb31",
   "metadata": {},
   "outputs": [
    {
     "name": "stdout",
     "output_type": "stream",
     "text": [
      "x is y\n"
     ]
    }
   ],
   "source": [
    "if x>y:\n",
    "    print(\"x is greater than y\")\n",
    "elif x==y:\n",
    "    print(\"x is y\")\n",
    "else:\n",
    "    print(\"y is greater\")"
   ]
  },
  {
   "cell_type": "code",
   "execution_count": 28,
   "id": "3f0b22ab",
   "metadata": {},
   "outputs": [
    {
     "name": "stdout",
     "output_type": "stream",
     "text": [
      "superhero: ironman\n"
     ]
    }
   ],
   "source": [
    "my_superhero= input(\"superhero: \")"
   ]
  },
  {
   "cell_type": "code",
   "execution_count": 35,
   "id": "7cfcd583",
   "metadata": {},
   "outputs": [
    {
     "name": "stdout",
     "output_type": "stream",
     "text": [
      "İronmaaannn\n"
     ]
    }
   ],
   "source": [
    "if my_superhero==\"batman\":\n",
    "    print(\"Batmaaann\")\n",
    "elif my_superhero==\"superman\":\n",
    "    print(\"Supermaaan\")\n",
    "elif my_superhero==\"ironman\":\n",
    "    print(\"İronmaaannn\")\n",
    "else:\n",
    "    print(\":( \")"
   ]
  },
  {
   "cell_type": "code",
   "execution_count": 36,
   "id": "ffe4b316",
   "metadata": {},
   "outputs": [],
   "source": [
    "a=10"
   ]
  },
  {
   "cell_type": "code",
   "execution_count": 37,
   "id": "f1c9d002",
   "metadata": {},
   "outputs": [],
   "source": [
    "b=15"
   ]
  },
  {
   "cell_type": "code",
   "execution_count": 38,
   "id": "2b3b7485",
   "metadata": {},
   "outputs": [],
   "source": [
    "c=20"
   ]
  },
  {
   "cell_type": "code",
   "execution_count": 39,
   "id": "e6cf8e18",
   "metadata": {},
   "outputs": [
    {
     "name": "stdout",
     "output_type": "stream",
     "text": [
      "tamam\n"
     ]
    }
   ],
   "source": [
    "if a>b or c>b:\n",
    "    print(\"tamam\")\n",
    "elif b>a and c<1:\n",
    "    print(\"zil\")"
   ]
  },
  {
   "cell_type": "code",
   "execution_count": 40,
   "id": "84326f0b",
   "metadata": {},
   "outputs": [],
   "source": [
    "isDead = False"
   ]
  },
  {
   "cell_type": "code",
   "execution_count": 42,
   "id": "8c904f2b",
   "metadata": {},
   "outputs": [
    {
     "name": "stdout",
     "output_type": "stream",
     "text": [
      "character is dead\n"
     ]
    }
   ],
   "source": [
    "if isDead== True:\n",
    "    print(\"character is not dead\")\n",
    "else:\n",
    "    print(\"character is dead\")\n",
    "    "
   ]
  },
  {
   "cell_type": "code",
   "execution_count": 43,
   "id": "2d676c2f",
   "metadata": {},
   "outputs": [
    {
     "name": "stdout",
     "output_type": "stream",
     "text": [
      "character is not dead\n"
     ]
    }
   ],
   "source": [
    "if isDead:\n",
    "    print(\"character is dead\")\n",
    "else:\n",
    "    print(\"character is not dead\")"
   ]
  },
  {
   "cell_type": "code",
   "execution_count": 44,
   "id": "2f5d6e39",
   "metadata": {},
   "outputs": [
    {
     "name": "stdout",
     "output_type": "stream",
     "text": [
      "character is not dead\n"
     ]
    }
   ],
   "source": [
    "if not isDead:\n",
    "    print(\"character is not dead\")"
   ]
  },
  {
   "cell_type": "code",
   "execution_count": 45,
   "id": "e604f979",
   "metadata": {},
   "outputs": [],
   "source": [
    "my_string = \"helloWorld\""
   ]
  },
  {
   "cell_type": "code",
   "execution_count": 48,
   "id": "851ad775",
   "metadata": {},
   "outputs": [
    {
     "name": "stdout",
     "output_type": "stream",
     "text": [
      "equal\n"
     ]
    }
   ],
   "source": [
    "if my_string== \"helloWorld\":\n",
    "    print(\"equal\")"
   ]
  },
  {
   "cell_type": "code",
   "execution_count": 49,
   "id": "c7eda191",
   "metadata": {},
   "outputs": [
    {
     "name": "stdout",
     "output_type": "stream",
     "text": [
      "true\n"
     ]
    }
   ],
   "source": [
    "if \"hello\" in my_string:\n",
    "    print(\"true\")\n",
    "else:\n",
    "    print(\"false\")"
   ]
  },
  {
   "cell_type": "code",
   "execution_count": 51,
   "id": "82b38379",
   "metadata": {},
   "outputs": [],
   "source": [
    "my_list=[1,2,3,4,5]"
   ]
  },
  {
   "cell_type": "code",
   "execution_count": 54,
   "id": "02bc5194",
   "metadata": {},
   "outputs": [
    {
     "name": "stdout",
     "output_type": "stream",
     "text": [
      "false\n"
     ]
    }
   ],
   "source": [
    "if 6 in my_list:\n",
    "    print(\"true\")\n",
    "else:\n",
    "    print(\"false\")"
   ]
  },
  {
   "cell_type": "code",
   "execution_count": 58,
   "id": "3dee7911",
   "metadata": {},
   "outputs": [],
   "source": [
    "my_dictionary = {\"k1\":100, \"k2\":200, \"k3\":300}"
   ]
  },
  {
   "cell_type": "code",
   "execution_count": 61,
   "id": "975c6c48",
   "metadata": {},
   "outputs": [
    {
     "name": "stdout",
     "output_type": "stream",
     "text": [
      "edirne\n"
     ]
    }
   ],
   "source": [
    "if 100 in my_dictionary.values():          # my_dictionary.keys deseydik false olurdu\n",
    "    print(\"edirne\")\n",
    "else:\n",
    "    print(\"keşan\")"
   ]
  }
 ],
 "metadata": {
  "kernelspec": {
   "display_name": "Python 3 (ipykernel)",
   "language": "python",
   "name": "python3"
  },
  "language_info": {
   "codemirror_mode": {
    "name": "ipython",
    "version": 3
   },
   "file_extension": ".py",
   "mimetype": "text/x-python",
   "name": "python",
   "nbconvert_exporter": "python",
   "pygments_lexer": "ipython3",
   "version": "3.11.5"
  }
 },
 "nbformat": 4,
 "nbformat_minor": 5
}
