{
 "cells": [
  {
   "cell_type": "code",
   "execution_count": 1,
   "id": "65b161d7",
   "metadata": {},
   "outputs": [
    {
     "name": "stdout",
     "output_type": "stream",
     "text": [
      "10\n",
      "20\n",
      "30\n",
      "40\n",
      "50\n",
      "60\n"
     ]
    }
   ],
   "source": [
    "my_list = (10,20,30,40,50,60)\n",
    "for number in my_list:\n",
    "    print(number)\n",
    "   "
   ]
  },
  {
   "cell_type": "code",
   "execution_count": 6,
   "id": "933a30b9",
   "metadata": {},
   "outputs": [
    {
     "name": "stdout",
     "output_type": "stream",
     "text": [
      "50\n",
      "100\n"
     ]
    }
   ],
   "source": [
    "for num in my_list:\n",
    "    if num==30:\n",
    "        break                                \n",
    "    print(num * 5)"
   ]
  },
  {
   "cell_type": "code",
   "execution_count": 7,
   "id": "91b01113",
   "metadata": {},
   "outputs": [
    {
     "name": "stdout",
     "output_type": "stream",
     "text": [
      "5\n",
      "15\n",
      "35\n",
      "45\n",
      "55\n"
     ]
    }
   ],
   "source": [
    "for num in my_list:\n",
    "    if num==30:                                           #YANDAKİ BOŞLUKLAR ÇOK ÖNEMLİ!!!! HANGİ FONKSİYONUN ALTINA GİRECEĞİNE DİKKAT ET\n",
    "        continue\n",
    "    print(num - 5)"
   ]
  },
  {
   "cell_type": "code",
   "execution_count": 13,
   "id": "bc7cedee",
   "metadata": {},
   "outputs": [],
   "source": [
    "for no in my_list:     #sadece bunu kullanırsak hata alırız hata almamak için \"pass\" kullanılır.\n",
    "    pass"
   ]
  },
  {
   "cell_type": "code",
   "execution_count": null,
   "id": "760d1b1f",
   "metadata": {},
   "outputs": [],
   "source": []
  },
  {
   "cell_type": "code",
   "execution_count": null,
   "id": "c29a3678",
   "metadata": {},
   "outputs": [],
   "source": []
  }
 ],
 "metadata": {
  "kernelspec": {
   "display_name": "Python 3 (ipykernel)",
   "language": "python",
   "name": "python3"
  },
  "language_info": {
   "codemirror_mode": {
    "name": "ipython",
    "version": 3
   },
   "file_extension": ".py",
   "mimetype": "text/x-python",
   "name": "python",
   "nbconvert_exporter": "python",
   "pygments_lexer": "ipython3",
   "version": "3.11.5"
  }
 },
 "nbformat": 4,
 "nbformat_minor": 5
}
